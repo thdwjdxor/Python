{
  "nbformat": 4,
  "nbformat_minor": 0,
  "metadata": {
    "colab": {
      "name": "6 Timeseries:CNN and RNN",
      "provenance": [],
      "collapsed_sections": [],
      "include_colab_link": true
    },
    "kernelspec": {
      "name": "python3",
      "display_name": "Python 3"
    }
  },
  "cells": [
    {
      "cell_type": "markdown",
      "metadata": {
        "id": "view-in-github",
        "colab_type": "text"
      },
      "source": [
        "<a href=\"https://colab.research.google.com/github/thdwjdxor/Neural-Network/blob/master/6_Timeseries_CNN_and_RNN.ipynb\" target=\"_parent\"><img src=\"https://colab.research.google.com/assets/colab-badge.svg\" alt=\"Open In Colab\"/></a>"
      ]
    },
    {
      "cell_type": "code",
      "metadata": {
        "id": "ATMG5gL3gdnt",
        "colab_type": "code",
        "outputId": "02fc2825-cd15-476b-a3e8-ef78ba5322c3",
        "colab": {
          "base_uri": "https://localhost:8080/",
          "height": 214
        }
      },
      "source": [
        "from keras.datasets import imdb\n",
        "from keras.preprocessing import sequence\n",
        "\n",
        "max_features = 10000  # number of words to consider as features\n",
        "max_len = 500  # cut texts after this number of words (among top max_features most common words)\n",
        "\n",
        "print('Loading data...')\n",
        "(x_train, y_train), (x_test, y_test) = imdb.load_data(num_words=max_features)\n",
        "print(len(x_train), 'train sequences')\n",
        "print(len(x_test), 'test sequences')\n",
        "\n",
        "print('Pad sequences (samples x time)')\n",
        "x_train = sequence.pad_sequences(x_train, maxlen=max_len)\n",
        "x_test = sequence.pad_sequences(x_test, maxlen=max_len)\n",
        "print('x_train shape:', x_train.shape)\n",
        "print('x_test shape:', x_test.shape)"
      ],
      "execution_count": 0,
      "outputs": [
        {
          "output_type": "stream",
          "text": [
            "Using TensorFlow backend.\n"
          ],
          "name": "stderr"
        },
        {
          "output_type": "display_data",
          "data": {
            "text/html": [
              "<p style=\"color: red;\">\n",
              "The default version of TensorFlow in Colab will soon switch to TensorFlow 2.x.<br>\n",
              "We recommend you <a href=\"https://www.tensorflow.org/guide/migrate\" target=\"_blank\">upgrade</a> now \n",
              "or ensure your notebook will continue to use TensorFlow 1.x via the <code>%tensorflow_version 1.x</code> magic:\n",
              "<a href=\"https://colab.research.google.com/notebooks/tensorflow_version.ipynb\" target=\"_blank\">more info</a>.</p>\n"
            ],
            "text/plain": [
              "<IPython.core.display.HTML object>"
            ]
          },
          "metadata": {
            "tags": []
          }
        },
        {
          "output_type": "stream",
          "text": [
            "Loading data...\n",
            "Downloading data from https://s3.amazonaws.com/text-datasets/imdb.npz\n",
            "17465344/17464789 [==============================] - 0s 0us/step\n",
            "25000 train sequences\n",
            "25000 test sequences\n",
            "Pad sequences (samples x time)\n",
            "x_train shape: (25000, 500)\n",
            "x_test shape: (25000, 500)\n"
          ],
          "name": "stdout"
        }
      ]
    },
    {
      "cell_type": "code",
      "metadata": {
        "id": "rMuEGTrSgtwv",
        "colab_type": "code",
        "outputId": "a9342974-9909-41c9-8036-cca483f3e34a",
        "colab": {
          "base_uri": "https://localhost:8080/",
          "height": 1000
        }
      },
      "source": [
        "from keras.models import Sequential\n",
        "from keras import layers\n",
        "from keras.optimizers import RMSprop\n",
        "\n",
        "model = Sequential()\n",
        "model.add(layers.Embedding(max_features, 128, input_length=max_len)) # (# unique, # output dim, size of input vector)\n",
        "model.add(layers.Conv1D(32, 7, activation='relu')) # (# node, time look up)\n",
        "model.add(layers.MaxPooling1D(5)) # pool max value from 7 values\n",
        "model.add(layers.Conv1D(32, 7, activation='relu'))\n",
        "model.add(layers.GlobalMaxPooling1D())\n",
        "model.add(layers.Dense(1))\n",
        "\n",
        "model.summary()\n",
        "\n",
        "model.compile(optimizer=RMSprop(lr=1e-4),\n",
        "              loss='binary_crossentropy',\n",
        "              metrics=['acc'])\n",
        "history = model.fit(x_train, y_train,\n",
        "                    epochs=10,\n",
        "                    batch_size=128,\n",
        "                    validation_split=0.2)"
      ],
      "execution_count": 0,
      "outputs": [
        {
          "output_type": "stream",
          "text": [
            "WARNING:tensorflow:From /usr/local/lib/python3.6/dist-packages/keras/backend/tensorflow_backend.py:66: The name tf.get_default_graph is deprecated. Please use tf.compat.v1.get_default_graph instead.\n",
            "\n",
            "WARNING:tensorflow:From /usr/local/lib/python3.6/dist-packages/keras/backend/tensorflow_backend.py:541: The name tf.placeholder is deprecated. Please use tf.compat.v1.placeholder instead.\n",
            "\n",
            "WARNING:tensorflow:From /usr/local/lib/python3.6/dist-packages/keras/backend/tensorflow_backend.py:4432: The name tf.random_uniform is deprecated. Please use tf.random.uniform instead.\n",
            "\n",
            "WARNING:tensorflow:From /usr/local/lib/python3.6/dist-packages/keras/backend/tensorflow_backend.py:4267: The name tf.nn.max_pool is deprecated. Please use tf.nn.max_pool2d instead.\n",
            "\n",
            "Model: \"sequential_1\"\n",
            "_________________________________________________________________\n",
            "Layer (type)                 Output Shape              Param #   \n",
            "=================================================================\n",
            "embedding_1 (Embedding)      (None, 500, 128)          1280000   \n",
            "_________________________________________________________________\n",
            "conv1d_1 (Conv1D)            (None, 494, 32)           28704     \n",
            "_________________________________________________________________\n",
            "max_pooling1d_1 (MaxPooling1 (None, 98, 32)            0         \n",
            "_________________________________________________________________\n",
            "conv1d_2 (Conv1D)            (None, 92, 32)            7200      \n",
            "_________________________________________________________________\n",
            "global_max_pooling1d_1 (Glob (None, 32)                0         \n",
            "_________________________________________________________________\n",
            "dense_1 (Dense)              (None, 1)                 33        \n",
            "=================================================================\n",
            "Total params: 1,315,937\n",
            "Trainable params: 1,315,937\n",
            "Non-trainable params: 0\n",
            "_________________________________________________________________\n",
            "WARNING:tensorflow:From /usr/local/lib/python3.6/dist-packages/keras/optimizers.py:793: The name tf.train.Optimizer is deprecated. Please use tf.compat.v1.train.Optimizer instead.\n",
            "\n",
            "WARNING:tensorflow:From /usr/local/lib/python3.6/dist-packages/keras/backend/tensorflow_backend.py:3657: The name tf.log is deprecated. Please use tf.math.log instead.\n",
            "\n",
            "WARNING:tensorflow:From /usr/local/lib/python3.6/dist-packages/tensorflow_core/python/ops/nn_impl.py:183: where (from tensorflow.python.ops.array_ops) is deprecated and will be removed in a future version.\n",
            "Instructions for updating:\n",
            "Use tf.where in 2.0, which has the same broadcast rule as np.where\n",
            "WARNING:tensorflow:From /usr/local/lib/python3.6/dist-packages/keras/backend/tensorflow_backend.py:1033: The name tf.assign_add is deprecated. Please use tf.compat.v1.assign_add instead.\n",
            "\n",
            "WARNING:tensorflow:From /usr/local/lib/python3.6/dist-packages/keras/backend/tensorflow_backend.py:1020: The name tf.assign is deprecated. Please use tf.compat.v1.assign instead.\n",
            "\n",
            "WARNING:tensorflow:From /usr/local/lib/python3.6/dist-packages/keras/backend/tensorflow_backend.py:3005: The name tf.Session is deprecated. Please use tf.compat.v1.Session instead.\n",
            "\n",
            "Train on 20000 samples, validate on 5000 samples\n",
            "Epoch 1/10\n",
            "WARNING:tensorflow:From /usr/local/lib/python3.6/dist-packages/keras/backend/tensorflow_backend.py:190: The name tf.get_default_session is deprecated. Please use tf.compat.v1.get_default_session instead.\n",
            "\n",
            "WARNING:tensorflow:From /usr/local/lib/python3.6/dist-packages/keras/backend/tensorflow_backend.py:197: The name tf.ConfigProto is deprecated. Please use tf.compat.v1.ConfigProto instead.\n",
            "\n",
            "WARNING:tensorflow:From /usr/local/lib/python3.6/dist-packages/keras/backend/tensorflow_backend.py:207: The name tf.global_variables is deprecated. Please use tf.compat.v1.global_variables instead.\n",
            "\n",
            "WARNING:tensorflow:From /usr/local/lib/python3.6/dist-packages/keras/backend/tensorflow_backend.py:216: The name tf.is_variable_initialized is deprecated. Please use tf.compat.v1.is_variable_initialized instead.\n",
            "\n",
            "WARNING:tensorflow:From /usr/local/lib/python3.6/dist-packages/keras/backend/tensorflow_backend.py:223: The name tf.variables_initializer is deprecated. Please use tf.compat.v1.variables_initializer instead.\n",
            "\n",
            "20000/20000 [==============================] - 71s 4ms/step - loss: 0.9842 - acc: 0.5080 - val_loss: 0.6869 - val_acc: 0.5568\n",
            "Epoch 2/10\n",
            "20000/20000 [==============================] - 71s 4ms/step - loss: 0.6728 - acc: 0.6243 - val_loss: 0.6641 - val_acc: 0.6478\n",
            "Epoch 3/10\n",
            "20000/20000 [==============================] - 71s 4ms/step - loss: 0.6294 - acc: 0.7258 - val_loss: 0.6174 - val_acc: 0.6964\n",
            "Epoch 4/10\n",
            "20000/20000 [==============================] - 70s 4ms/step - loss: 0.5443 - acc: 0.7935 - val_loss: 0.5046 - val_acc: 0.7954\n",
            "Epoch 5/10\n",
            "20000/20000 [==============================] - 71s 4ms/step - loss: 0.4212 - acc: 0.8396 - val_loss: 0.4193 - val_acc: 0.8284\n",
            "Epoch 6/10\n",
            "20000/20000 [==============================] - 71s 4ms/step - loss: 0.3502 - acc: 0.8633 - val_loss: 0.3978 - val_acc: 0.8368\n",
            "Epoch 7/10\n",
            "20000/20000 [==============================] - 70s 4ms/step - loss: 0.3106 - acc: 0.8671 - val_loss: 0.3887 - val_acc: 0.8322\n",
            "Epoch 8/10\n",
            "20000/20000 [==============================] - 70s 4ms/step - loss: 0.2791 - acc: 0.8593 - val_loss: 0.4327 - val_acc: 0.8136\n",
            "Epoch 9/10\n",
            "20000/20000 [==============================] - 71s 4ms/step - loss: 0.2533 - acc: 0.8427 - val_loss: 0.4256 - val_acc: 0.7980\n",
            "Epoch 10/10\n",
            "20000/20000 [==============================] - 71s 4ms/step - loss: 0.2323 - acc: 0.8185 - val_loss: 0.4526 - val_acc: 0.7594\n"
          ],
          "name": "stdout"
        }
      ]
    },
    {
      "cell_type": "code",
      "metadata": {
        "id": "0Yg7FyCHi0eU",
        "colab_type": "code",
        "outputId": "7429cae1-a52f-4f60-9ed0-6721b1592752",
        "colab": {
          "base_uri": "https://localhost:8080/",
          "height": 545
        }
      },
      "source": [
        "import matplotlib.pyplot as plt\n",
        "\n",
        "acc = history.history['acc']\n",
        "val_acc = history.history['val_acc']\n",
        "loss = history.history['loss']\n",
        "val_loss = history.history['val_loss']\n",
        "\n",
        "epochs = range(len(acc))\n",
        "\n",
        "plt.plot(epochs, acc, 'bo', label='Training acc')\n",
        "plt.plot(epochs, val_acc, 'b', label='Validation acc')\n",
        "plt.title('Training and validation accuracy')\n",
        "plt.legend()\n",
        "\n",
        "plt.figure()\n",
        "\n",
        "plt.plot(epochs, loss, 'bo', label='Training loss')\n",
        "plt.plot(epochs, val_loss, 'b', label='Validation loss')\n",
        "plt.title('Training and validation loss')\n",
        "plt.legend()\n",
        "\n",
        "plt.show()"
      ],
      "execution_count": 0,
      "outputs": [
        {
          "output_type": "display_data",
          "data": {
            "image/png": "[encoded data removed]",
            "text/plain": [
              "<Figure size 432x288 with 1 Axes>"
            ]
          },
          "metadata": {
            "tags": []
          }
        },
        {
          "output_type": "display_data",
          "data": {
            "image/png": "[encoded data removed]",
            "text/plain": [
              "<Figure size 432x288 with 1 Axes>"
            ]
          },
          "metadata": {
            "tags": []
          }
        }
      ]
    },
    {
      "cell_type": "code",
      "metadata": {
        "id": "G2CPhGkTk1tM",
        "colab_type": "code",
        "colab": {}
      },
      "source": [
        ""
      ],
      "execution_count": 0,
      "outputs": []
    },
    {
      "cell_type": "code",
      "metadata": {
        "id": "qgjuraW_k13g",
        "colab_type": "code",
        "outputId": "c38c3a1b-bb59-46ed-b855-8d8610adfe67",
        "colab": {
          "base_uri": "https://localhost:8080/",
          "height": 255
        }
      },
      "source": [
        "#CNN and RNN with regression(temperature)\n",
        "!wget --no-check-certificate \\\n",
        "    https://s3.amazonaws.com/keras-datasets/jena_climate_2009_2016.csv.zip \\\n",
        "    -O /tmp/jena_climate_2009_2016.csv.zip\n",
        "\n",
        "# Opposite direction: timestemp from new to old\n",
        "import os\n",
        "import zipfile\n",
        "\n",
        "local_zip = '/tmp/jena_climate_2009_2016.csv.zip'\n",
        "zip_ref = zipfile.ZipFile(local_zip, 'r')\n",
        "zip_ref.extractall('/tmp')\n",
        "zip_ref.close()\n",
        "\n",
        "import os\n",
        "import numpy as np\n",
        "data_dir = '/tmp/'\n",
        "fname = os.path.join(data_dir, 'jena_climate_2009_2016.csv')\n",
        "\n",
        "f = open(fname)\n",
        "data = f.read()\n",
        "f.close()\n",
        "\n",
        "lines = data.split('\\n')\n",
        "header = lines[0].split(',') #select first line as header\n",
        "lines = lines[1:] #select the rest lines as lines. There are 420551 obs\n",
        "\n",
        "print(header)\n",
        "print(len(lines))\n",
        "\n",
        "import numpy as np\n",
        "\n",
        "float_data = np.zeros((len(lines), len(header) - 1)) # Remove Timestep column, and float_data only contains 14 features\n",
        "for i, line in enumerate(lines):\n",
        "    values = [float(x) for x in line.split(',')[1:]] # make 'lines' varaible into array\n",
        "    float_data[i, :] = values #shape (420551, 14)\n",
        "# Normalize\n",
        "mean = float_data[:200000].mean(axis=0)\n",
        "float_data -= mean\n",
        "std = float_data[:200000].std(axis=0)\n",
        "float_data /= std"
      ],
      "execution_count": 0,
      "outputs": [
        {
          "output_type": "stream",
          "text": [
            "--2020-01-02 18:45:43--  https://s3.amazonaws.com/keras-datasets/jena_climate_2009_2016.csv.zip\n",
            "Resolving s3.amazonaws.com (s3.amazonaws.com)... 52.216.229.133\n",
            "Connecting to s3.amazonaws.com (s3.amazonaws.com)|52.216.229.133|:443... connected.\n",
            "HTTP request sent, awaiting response... 200 OK\n",
            "Length: 13568290 (13M) [application/zip]\n",
            "Saving to: ‘/tmp/jena_climate_2009_2016.csv.zip’\n",
            "\n",
            "\r          /tmp/jena   0%[                    ]       0  --.-KB/s               \r/tmp/jena_climate_2 100%[===================>]  12.94M  79.7MB/s    in 0.2s    \n",
            "\n",
            "2020-01-02 18:45:43 (79.7 MB/s) - ‘/tmp/jena_climate_2009_2016.csv.zip’ saved [13568290/13568290]\n",
            "\n",
            "['\"Date Time\"', '\"p (mbar)\"', '\"T (degC)\"', '\"Tpot (K)\"', '\"Tdew (degC)\"', '\"rh (%)\"', '\"VPmax (mbar)\"', '\"VPact (mbar)\"', '\"VPdef (mbar)\"', '\"sh (g/kg)\"', '\"H2OC (mmol/mol)\"', '\"rho (g/m**3)\"', '\"wv (m/s)\"', '\"max. wv (m/s)\"', '\"wd (deg)\"']\n",
            "420551\n"
          ],
          "name": "stdout"
        }
      ]
    },
    {
      "cell_type": "code",
      "metadata": {
        "id": "uDNpEKzdi1F_",
        "colab_type": "code",
        "colab": {}
      },
      "source": [
        "#CNN with regression/temperature\n",
        "# We reuse the following variables defined in the last section:\n",
        "# float_data, train_gen, val_gen, val_steps\n",
        "\n",
        "def generator(data, lookback, delay, min_index, max_index,\n",
        "              shuffle=False, batch_size=128, step=6):\n",
        "    if max_index is None:\n",
        "        max_index = len(data) - delay - 1\n",
        "    i = min_index + lookback\n",
        "    while 1:\n",
        "        if shuffle:\n",
        "            rows = np.random.randint(\n",
        "                min_index + lookback, max_index, size=batch_size)\n",
        "        else:\n",
        "            if i + batch_size >= max_index:\n",
        "                i = min_index + lookback\n",
        "            rows = np.arange(i, min(i + batch_size, max_index))\n",
        "            i += len(rows)\n",
        "\n",
        "        samples = np.zeros((len(rows),\n",
        "                           lookback // step,\n",
        "                           data.shape[-1]))\n",
        "        targets = np.zeros((len(rows),))\n",
        "        for j, row in enumerate(rows):\n",
        "            indices = range(rows[j] - lookback, rows[j], step)\n",
        "            samples[j] = data[indices]\n",
        "            targets[j] = data[rows[j] + delay][1]\n",
        "        yield samples, targets\n",
        "        \n",
        "lookback = 1440\n",
        "step = 6\n",
        "delay = 144\n",
        "batch_size = 128\n",
        "\n",
        "train_gen = generator(float_data,\n",
        "                      lookback=lookback,\n",
        "                      delay=delay,\n",
        "                      min_index=0,\n",
        "                      max_index=200000,\n",
        "                      shuffle=True,\n",
        "                      step=step, \n",
        "                      batch_size=batch_size)\n",
        "val_gen = generator(float_data,\n",
        "                    lookback=lookback,\n",
        "                    delay=delay,\n",
        "                    min_index=200001,\n",
        "                    max_index=300000,\n",
        "                    step=step,\n",
        "                    batch_size=batch_size)\n",
        "test_gen = generator(float_data,\n",
        "                     lookback=lookback,\n",
        "                     delay=delay,\n",
        "                     min_index=300001,\n",
        "                     max_index=None,\n",
        "                     step=step,\n",
        "                     batch_size=batch_size)\n",
        "\n",
        "# This is how many steps to draw from `val_gen`\n",
        "# in order to see the whole validation set:\n",
        "val_steps = (300000 - 200001 - lookback) // batch_size\n",
        "\n",
        "# This is how many steps to draw from `test_gen`\n",
        "# in order to see the whole test set:\n",
        "test_steps = (len(float_data) - 300001 - lookback) // batch_size"
      ],
      "execution_count": 0,
      "outputs": []
    },
    {
      "cell_type": "code",
      "metadata": {
        "id": "3X01uOSpi--C",
        "colab_type": "code",
        "outputId": "d215bf44-da28-424a-8ac9-e14648707e0e",
        "colab": {
          "base_uri": "https://localhost:8080/",
          "height": 689
        }
      },
      "source": [
        "from keras.models import Sequential\n",
        "from keras import layers\n",
        "from keras.optimizers import RMSprop\n",
        "\n",
        "model = Sequential()\n",
        "model.add(layers.Conv1D(32, 5, activation='relu',\n",
        "                        input_shape=(None, float_data.shape[-1])))\n",
        "model.add(layers.MaxPooling1D(3))\n",
        "model.add(layers.Conv1D(32, 5, activation='relu'))\n",
        "model.add(layers.MaxPooling1D(3))\n",
        "model.add(layers.Conv1D(32, 5, activation='relu'))\n",
        "model.add(layers.GlobalMaxPooling1D())\n",
        "model.add(layers.Dense(1))\n",
        "\n",
        "model.compile(optimizer=RMSprop(), loss='mae')\n",
        "history = model.fit_generator(train_gen,\n",
        "                              steps_per_epoch=500,\n",
        "                              epochs=20,\n",
        "                              validation_data=val_gen,\n",
        "                              validation_steps=val_steps)"
      ],
      "execution_count": 0,
      "outputs": [
        {
          "output_type": "stream",
          "text": [
            "Epoch 1/20\n",
            "500/500 [==============================] - 42s 84ms/step - loss: 0.4154 - val_loss: 0.4339\n",
            "Epoch 2/20\n",
            "500/500 [==============================] - 41s 82ms/step - loss: 0.3640 - val_loss: 0.4371\n",
            "Epoch 3/20\n",
            "500/500 [==============================] - 41s 83ms/step - loss: 0.3455 - val_loss: 0.4534\n",
            "Epoch 4/20\n",
            "500/500 [==============================] - 41s 82ms/step - loss: 0.3369 - val_loss: 0.5126\n",
            "Epoch 5/20\n",
            "500/500 [==============================] - 41s 82ms/step - loss: 0.3290 - val_loss: 0.4590\n",
            "Epoch 6/20\n",
            "500/500 [==============================] - 41s 82ms/step - loss: 0.3252 - val_loss: 0.4715\n",
            "Epoch 7/20\n",
            "500/500 [==============================] - 41s 83ms/step - loss: 0.3212 - val_loss: 0.4984\n",
            "Epoch 8/20\n",
            "500/500 [==============================] - 41s 82ms/step - loss: 0.3201 - val_loss: 0.4798\n",
            "Epoch 9/20\n",
            "500/500 [==============================] - 41s 82ms/step - loss: 0.3190 - val_loss: 0.5084\n",
            "Epoch 10/20\n",
            "500/500 [==============================] - 41s 82ms/step - loss: 0.3206 - val_loss: 0.4993\n",
            "Epoch 11/20\n",
            "500/500 [==============================] - 41s 83ms/step - loss: 0.3289 - val_loss: 0.5264\n",
            "Epoch 12/20\n",
            "500/500 [==============================] - 41s 81ms/step - loss: 0.3372 - val_loss: 0.5638\n",
            "Epoch 13/20\n",
            "500/500 [==============================] - 41s 83ms/step - loss: 0.3671 - val_loss: 0.5634\n",
            "Epoch 14/20\n",
            "500/500 [==============================] - 41s 83ms/step - loss: 0.4614 - val_loss: 0.9658\n",
            "Epoch 15/20\n",
            "500/500 [==============================] - 41s 83ms/step - loss: 6.2920 - val_loss: 18.7992\n",
            "Epoch 16/20\n",
            "500/500 [==============================] - 41s 83ms/step - loss: 54.3356 - val_loss: 123.8225\n",
            "Epoch 17/20\n",
            "500/500 [==============================] - 41s 82ms/step - loss: 269.0316 - val_loss: 161.9254\n",
            "Epoch 18/20\n",
            "500/500 [==============================] - 41s 81ms/step - loss: 874.8611 - val_loss: 1158.5296\n",
            "Epoch 19/20\n",
            "500/500 [==============================] - 41s 81ms/step - loss: 2121.4405 - val_loss: 726.7495\n",
            "Epoch 20/20\n",
            "500/500 [==============================] - 41s 82ms/step - loss: 4192.1122 - val_loss: 5346.4258\n"
          ],
          "name": "stdout"
        }
      ]
    },
    {
      "cell_type": "code",
      "metadata": {
        "id": "QOfCnTYHjddr",
        "colab_type": "code",
        "outputId": "babc4c66-08f3-4ba8-a1a3-1883b4db58c4",
        "colab": {
          "base_uri": "https://localhost:8080/",
          "height": 301
        }
      },
      "source": [
        "\n",
        "import matplotlib.pyplot as plt\n",
        "\n",
        "loss = history.history['loss']\n",
        "val_loss = history.history['val_loss']\n",
        "\n",
        "epochs = range(len(loss))\n",
        "\n",
        "plt.figure()\n",
        "\n",
        "plt.plot(epochs, loss, 'bo', label='Training loss')\n",
        "plt.plot(epochs, val_loss, 'b', label='Validation loss')\n",
        "plt.title('Training and validation loss')\n",
        "plt.legend()\n",
        "\n",
        "plt.show()"
      ],
      "execution_count": 0,
      "outputs": [
        {
          "output_type": "display_data",
          "data": {
            "image/png": "[encoded data removed]",
            "text/plain": [
              "<Figure size 432x288 with 1 Axes>"
            ]
          },
          "metadata": {
            "tags": []
          }
        }
      ]
    },
    {
      "cell_type": "code",
      "metadata": {
        "id": "_srifQANjdw5",
        "colab_type": "code",
        "colab": {}
      },
      "source": [
        "# Combine CNN and RNN (temperature)\n",
        "# This was previously set to 6 (one point per hour).\n",
        "# Now 3 (one point per 30 min).\n",
        "step = 3\n",
        "lookback = 720  # Unchanged\n",
        "delay = 144 # Unchanged\n",
        "\n",
        "train_gen = generator(float_data,\n",
        "                      lookback=lookback,\n",
        "                      delay=delay,\n",
        "                      min_index=0,\n",
        "                      max_index=200000,\n",
        "                      shuffle=True,\n",
        "                      step=step)\n",
        "val_gen = generator(float_data,\n",
        "                    lookback=lookback,\n",
        "                    delay=delay,\n",
        "                    min_index=200001,\n",
        "                    max_index=300000,\n",
        "                    step=step)\n",
        "test_gen = generator(float_data,\n",
        "                     lookback=lookback,\n",
        "                     delay=delay,\n",
        "                     min_index=300001,\n",
        "                     max_index=None,\n",
        "                     step=step)\n",
        "val_steps = (300000 - 200001 - lookback) // 128\n",
        "test_steps = (len(float_data) - 300001 - lookback) // 128"
      ],
      "execution_count": 0,
      "outputs": []
    },
    {
      "cell_type": "code",
      "metadata": {
        "id": "_Ul18TpHjj3F",
        "colab_type": "code",
        "outputId": "9cf2d426-a767-4af8-fff0-4b8ee7ce48dd",
        "colab": {
          "base_uri": "https://localhost:8080/",
          "height": 1000
        }
      },
      "source": [
        "# CNN then GRU\n",
        "model = Sequential()\n",
        "model.add(layers.Conv1D(32, 5, activation='relu',\n",
        "                        input_shape=(None, float_data.shape[-1])))\n",
        "model.add(layers.MaxPooling1D(3))\n",
        "model.add(layers.Conv1D(32, 5, activation='relu'))\n",
        "model.add(layers.GRU(32, dropout=0.1, recurrent_dropout=0.5))\n",
        "model.add(layers.Dense(1))\n",
        "\n",
        "model.summary()\n",
        "\n",
        "model.compile(optimizer=RMSprop(), loss='mae')\n",
        "history = model.fit_generator(train_gen,\n",
        "                              steps_per_epoch=500,\n",
        "                              epochs=20,\n",
        "                              validation_data=val_gen,\n",
        "                              validation_steps=val_steps)"
      ],
      "execution_count": 0,
      "outputs": [
        {
          "output_type": "stream",
          "text": [
            "WARNING:tensorflow:From /usr/local/lib/python3.6/dist-packages/keras/backend/tensorflow_backend.py:148: The name tf.placeholder_with_default is deprecated. Please use tf.compat.v1.placeholder_with_default instead.\n",
            "\n",
            "WARNING:tensorflow:From /usr/local/lib/python3.6/dist-packages/keras/backend/tensorflow_backend.py:3733: calling dropout (from tensorflow.python.ops.nn_ops) with keep_prob is deprecated and will be removed in a future version.\n",
            "Instructions for updating:\n",
            "Please use `rate` instead of `keep_prob`. Rate should be set to `rate = 1 - keep_prob`.\n",
            "Model: \"sequential_3\"\n",
            "_________________________________________________________________\n",
            "Layer (type)                 Output Shape              Param #   \n",
            "=================================================================\n",
            "conv1d_6 (Conv1D)            (None, None, 32)          2272      \n",
            "_________________________________________________________________\n",
            "max_pooling1d_4 (MaxPooling1 (None, None, 32)          0         \n",
            "_________________________________________________________________\n",
            "conv1d_7 (Conv1D)            (None, None, 32)          5152      \n",
            "_________________________________________________________________\n",
            "gru_1 (GRU)                  (None, 32)                6240      \n",
            "_________________________________________________________________\n",
            "dense_3 (Dense)              (None, 1)                 33        \n",
            "=================================================================\n",
            "Total params: 13,697\n",
            "Trainable params: 13,697\n",
            "Non-trainable params: 0\n",
            "_________________________________________________________________\n",
            "Epoch 1/20\n",
            "500/500 [==============================] - 81s 161ms/step - loss: 0.3373 - val_loss: 0.3049\n",
            "Epoch 2/20\n",
            "500/500 [==============================] - 79s 157ms/step - loss: 0.3065 - val_loss: 0.2982\n",
            "Epoch 3/20\n",
            "500/500 [==============================] - 78s 156ms/step - loss: 0.2919 - val_loss: 0.2772\n",
            "Epoch 4/20\n",
            "500/500 [==============================] - 79s 159ms/step - loss: 0.2856 - val_loss: 0.3066\n",
            "Epoch 5/20\n",
            "500/500 [==============================] - 80s 160ms/step - loss: 0.2771 - val_loss: 0.2828\n",
            "Epoch 6/20\n",
            "500/500 [==============================] - 79s 158ms/step - loss: 0.2709 - val_loss: 0.2882\n",
            "Epoch 7/20\n",
            "500/500 [==============================] - 79s 158ms/step - loss: 0.2672 - val_loss: 0.2831\n",
            "Epoch 8/20\n",
            "500/500 [==============================] - 81s 161ms/step - loss: 0.2613 - val_loss: 0.2820\n",
            "Epoch 9/20\n",
            "500/500 [==============================] - 81s 163ms/step - loss: 0.2580 - val_loss: 0.2850\n",
            "Epoch 10/20\n",
            "500/500 [==============================] - 81s 162ms/step - loss: 0.2545 - val_loss: 0.2830\n",
            "Epoch 11/20\n",
            "500/500 [==============================] - 81s 161ms/step - loss: 0.2506 - val_loss: 0.2907\n",
            "Epoch 12/20\n",
            "500/500 [==============================] - 81s 162ms/step - loss: 0.2466 - val_loss: 0.2808\n",
            "Epoch 13/20\n",
            "500/500 [==============================] - 79s 159ms/step - loss: 0.2440 - val_loss: 0.2928\n",
            "Epoch 14/20\n",
            "500/500 [==============================] - 79s 158ms/step - loss: 0.2401 - val_loss: 0.2943\n",
            "Epoch 15/20\n",
            "500/500 [==============================] - 79s 159ms/step - loss: 0.2373 - val_loss: 0.2927\n",
            "Epoch 16/20\n",
            "500/500 [==============================] - 78s 157ms/step - loss: 0.2345 - val_loss: 0.2984\n",
            "Epoch 17/20\n",
            "500/500 [==============================] - 79s 159ms/step - loss: 0.2327 - val_loss: 0.2995\n",
            "Epoch 18/20\n",
            "500/500 [==============================] - 78s 156ms/step - loss: 0.2307 - val_loss: 0.2942\n",
            "Epoch 19/20\n",
            "500/500 [==============================] - 78s 156ms/step - loss: 0.2278 - val_loss: 0.2988\n",
            "Epoch 20/20\n",
            "500/500 [==============================] - 78s 156ms/step - loss: 0.2263 - val_loss: 0.2990\n"
          ],
          "name": "stdout"
        }
      ]
    },
    {
      "cell_type": "code",
      "metadata": {
        "id": "GAi2x9yEjd1z",
        "colab_type": "code",
        "outputId": "4d2cad83-d58c-4aa7-b5da-5fd3e48450a3",
        "colab": {
          "base_uri": "https://localhost:8080/"
        }
      },
      "source": [
        "loss = history.history['loss']\n",
        "val_loss = history.history['val_loss']\n",
        "\n",
        "epochs = range(len(loss))\n",
        "\n",
        "plt.figure()\n",
        "\n",
        "plt.plot(epochs, loss, 'bo', label='Training loss')\n",
        "plt.plot(epochs, val_loss, 'b', label='Validation loss')\n",
        "plt.title('Training and validation loss')\n",
        "plt.legend()\n",
        "\n",
        "plt.show()"
      ],
      "execution_count": 0,
      "outputs": [
        {
          "output_type": "display_data",
          "data": {
            "image/png": "[encoded data removed]",
            "text/plain": [
              "<Figure size 432x288 with 1 Axes>"
            ]
          },
          "metadata": {
            "tags": []
          }
        }
      ]
    },
    {
      "cell_type": "code",
      "metadata": {
        "id": "B5ugitCSjv3I",
        "colab_type": "code",
        "colab": {}
      },
      "source": [
        ""
      ],
      "execution_count": 0,
      "outputs": []
    }
  ]
}